{
 "cells": [
  {
   "cell_type": "markdown",
   "id": "7e9cdcb3",
   "metadata": {},
   "source": [
    "## Importing stuff I need"
   ]
  },
  {
   "cell_type": "code",
   "execution_count": 6,
   "id": "abcf1d66",
   "metadata": {},
   "outputs": [
    {
     "name": "stdout",
     "output_type": "stream",
     "text": [
      "The autoreload extension is already loaded. To reload it, use:\n",
      "  %reload_ext autoreload\n"
     ]
    },
    {
     "ename": "ModuleNotFoundError",
     "evalue": "No module named 'orphics'",
     "output_type": "error",
     "traceback": [
      "\u001b[0;31m---------------------------------------------------------------------------\u001b[0m",
      "\u001b[0;31mModuleNotFoundError\u001b[0m                       Traceback (most recent call last)",
      "\u001b[0;32m/tmp/ipykernel_2084/4205859460.py\u001b[0m in \u001b[0;36m<module>\u001b[0;34m\u001b[0m\n\u001b[1;32m     14\u001b[0m \u001b[0;32mfrom\u001b[0m \u001b[0mhealpy\u001b[0m\u001b[0;34m.\u001b[0m\u001b[0mfitsfunc\u001b[0m \u001b[0;32mimport\u001b[0m \u001b[0mread_alm\u001b[0m\u001b[0;34m,\u001b[0m\u001b[0mread_map\u001b[0m\u001b[0;34m\u001b[0m\u001b[0;34m\u001b[0m\u001b[0m\n\u001b[1;32m     15\u001b[0m \u001b[0;34m\u001b[0m\u001b[0m\n\u001b[0;32m---> 16\u001b[0;31m \u001b[0;32mfrom\u001b[0m \u001b[0mfalafel\u001b[0m \u001b[0;32mimport\u001b[0m \u001b[0mqe\u001b[0m\u001b[0;34m,\u001b[0m \u001b[0mutils\u001b[0m\u001b[0;34m\u001b[0m\u001b[0;34m\u001b[0m\u001b[0m\n\u001b[0m",
      "\u001b[0;32m~/.local/lib/python3.8/site-packages/falafel-0.1.0-py3.8.egg/falafel/utils.py\u001b[0m in \u001b[0;36m<module>\u001b[0;34m\u001b[0m\n\u001b[1;32m      1\u001b[0m \u001b[0;32mfrom\u001b[0m \u001b[0m__future__\u001b[0m \u001b[0;32mimport\u001b[0m \u001b[0mprint_function\u001b[0m\u001b[0;34m\u001b[0m\u001b[0;34m\u001b[0m\u001b[0m\n\u001b[0;32m----> 2\u001b[0;31m \u001b[0;32mfrom\u001b[0m \u001b[0morphics\u001b[0m \u001b[0;32mimport\u001b[0m \u001b[0mmaps\u001b[0m\u001b[0;34m,\u001b[0m\u001b[0mio\u001b[0m\u001b[0;34m,\u001b[0m\u001b[0mcosmology\u001b[0m\u001b[0;34m,\u001b[0m\u001b[0mmpi\u001b[0m \u001b[0;31m# msyriac/orphics ; pip install -e . --user\u001b[0m\u001b[0;34m\u001b[0m\u001b[0;34m\u001b[0m\u001b[0m\n\u001b[0m\u001b[1;32m      3\u001b[0m \u001b[0;32mfrom\u001b[0m \u001b[0mpixell\u001b[0m \u001b[0;32mimport\u001b[0m \u001b[0menmap\u001b[0m\u001b[0;34m,\u001b[0m\u001b[0mlensing\u001b[0m \u001b[0;32mas\u001b[0m \u001b[0mplensing\u001b[0m\u001b[0;34m,\u001b[0m\u001b[0mcurvedsky\u001b[0m\u001b[0;34m,\u001b[0m \u001b[0mutils\u001b[0m\u001b[0;34m,\u001b[0m \u001b[0menplot\u001b[0m\u001b[0;34m,\u001b[0m\u001b[0mpowspec\u001b[0m\u001b[0;34m\u001b[0m\u001b[0;34m\u001b[0m\u001b[0m\n\u001b[1;32m      4\u001b[0m \u001b[0;32mimport\u001b[0m \u001b[0mnumpy\u001b[0m \u001b[0;32mas\u001b[0m \u001b[0mnp\u001b[0m\u001b[0;34m\u001b[0m\u001b[0;34m\u001b[0m\u001b[0m\n\u001b[1;32m      5\u001b[0m \u001b[0;32mimport\u001b[0m \u001b[0mos\u001b[0m\u001b[0;34m,\u001b[0m\u001b[0msys\u001b[0m\u001b[0;34m\u001b[0m\u001b[0;34m\u001b[0m\u001b[0m\n",
      "\u001b[0;31mModuleNotFoundError\u001b[0m: No module named 'orphics'"
     ]
    }
   ],
   "source": [
    "from __future__ import print_function\n",
    "%load_ext autoreload\n",
    "%autoreload 2\n",
    "import time, os\n",
    "\n",
    "from pixell import enmap,utils,reproject,enplot\n",
    "from pixell.reproject import healpix2map,thumbnails\n",
    "from pixell.curvedsky import alm2map\n",
    "\n",
    "import numpy as np\n",
    "import matplotlib.pyplot as plt\n",
    "\n",
    "import healpy as hp\n",
    "from healpy.fitsfunc import read_alm,read_map\n",
    "\n",
    "from falafel import qe, utils"
   ]
  },
  {
   "cell_type": "markdown",
   "id": "77ede842",
   "metadata": {},
   "source": [
    "## Reading and opening files"
   ]
  },
  {
   "cell_type": "code",
   "execution_count": 3,
   "id": "d34a366c",
   "metadata": {},
   "outputs": [
    {
     "name": "stdout",
     "output_type": "stream",
     "text": [
      "alms:  complex128 34043626\n"
     ]
    }
   ],
   "source": [
    "# simulated maps file location\n",
    "alm_filename = \"../lensed_alm.fits\"\n",
    "\n",
    "alm_hp = read_alm(alm_filename)\n",
    "print(\"alms: \", alm_hp.dtype, len(alm_hp))\n",
    "\n",
    "# lensing convergence file\n",
    "kap_filename = \"kap.fits\"\n",
    "\n",
    "# don't need kappa map right now?"
   ]
  },
  {
   "cell_type": "markdown",
   "id": "231f2fbb",
   "metadata": {},
   "source": [
    "## Convert cell to pixell (equatorial CAR) format"
   ]
  },
  {
   "cell_type": "code",
   "execution_count": 5,
   "id": "088c661a",
   "metadata": {},
   "outputs": [
    {
     "name": "stdout",
     "output_type": "stream",
     "text": [
      "Took 3.33586 seconds.\n"
     ]
    }
   ],
   "source": [
    "# 0.5 (1 for now) arcmin resolution car geometry\n",
    "shape, wcs = enmap.fullsky_geometry(res=np.deg2rad(1.0 / 60.))\n",
    "# create empty map to overlay our map\n",
    "omap = enmap.empty(shape, wcs, dtype=np.float32)\n",
    "t1 = time.time()\n",
    "alm_px = alm2map(alm_hp, omap)\n",
    "t2 = time.time()\n",
    "print(\"Took %0.5f seconds.\" % (t2 - t1))"
   ]
  }
 ],
 "metadata": {
  "kernelspec": {
   "display_name": "Python 3 (ipykernel)",
   "language": "python",
   "name": "python3"
  },
  "language_info": {
   "codemirror_mode": {
    "name": "ipython",
    "version": 3
   },
   "file_extension": ".py",
   "mimetype": "text/x-python",
   "name": "python",
   "nbconvert_exporter": "python",
   "pygments_lexer": "ipython3",
   "version": "3.8.8"
  }
 },
 "nbformat": 4,
 "nbformat_minor": 5
}
